{
 "cells": [
  {
   "cell_type": "markdown",
   "metadata": {},
   "source": [
    "# Capstone Project - The Battle of Neighborhoods (Week 1)"
   ]
  },
  {
   "cell_type": "markdown",
   "metadata": {},
   "source": [
    "_Joao Vitor Coelho_"
   ]
  },
  {
   "cell_type": "markdown",
   "metadata": {},
   "source": [
    "Part of the Applied Data Science Capstone Course in the IBM Data Science Professional Certificate"
   ]
  },
  {
   "cell_type": "markdown",
   "metadata": {},
   "source": [
    "## 1. Introduction"
   ]
  },
  {
   "cell_type": "markdown",
   "metadata": {},
   "source": [
    "For this project of the Applied Data Science Capstone Course, I decided to analyze the city of Calgary, Aberta. Calgary is the largest city of Canadian province of Alberta, along with being the third-largest municipality and fourth-largest metropolitan area in Canada. Calgary is the most important economic center of the Canadian Prairies region and, as such, it has been experiencing some significant demographic growth in the last decades. For the purpose of this project, I am going to focus on the Latin American population of Calgary, which represented 2.7% of the overall population of the city in 2016 (well above the national average of 1.3%), up from 1.3% in 2006."
   ]
  },
  {
   "cell_type": "markdown",
   "metadata": {},
   "source": [
    "  ### 1.1. Business Problem"
   ]
  },
  {
   "cell_type": "markdown",
   "metadata": {},
   "source": [
    "As with other visible minority populations in Canada, Latin Americans occasionally - or frequently - tend to look for groceries which resemble the products used in their (or their ancestors') places of origin. Even though Calgary has a growing market for Latin American grocery stores and restaurants, the city still lags behind its major Canadian counterparts in options for Latin American consumers.\n",
    "\n",
    "Because of that, I have decided to explore the neighborhoods of Calgary and find the most adequate part of the city to install a new Latin American grocery store. Thi report will be target to any stakeholders interested in opening a Latin American grocery story in Calgary."
   ]
  },
  {
   "cell_type": "markdown",
   "metadata": {},
   "source": [
    "### 1.2. Data"
   ]
  },
  {
   "cell_type": "markdown",
   "metadata": {},
   "source": [
    "After setting up the business problem, we have an idea about which sort of data is going to be needed to analyze our problem and where to find it. In order to gather data about the neighborhoods of Calgary, I will build a code to scrape a Wikipedia page containing the postal codes of the Calgary area and and transform that into a pandas dataframe. \n",
    "\n",
    "Later on, I will use the geopy library and folium to create maps and have a better idea about how the neighborhoods in the city look like. Afterwards, I am going to use the Foursquare API, which will allow me to finally explore and segment different parts of Calgary and find the best spots to install our business."
   ]
  }
 ],
 "metadata": {
  "kernelspec": {
   "display_name": "Python",
   "language": "python",
   "name": "conda-env-python-py"
  },
  "language_info": {
   "codemirror_mode": {
    "name": "ipython",
    "version": 3
   },
   "file_extension": ".py",
   "mimetype": "text/x-python",
   "name": "python",
   "nbconvert_exporter": "python",
   "pygments_lexer": "ipython3",
   "version": "3.6.11"
  }
 },
 "nbformat": 4,
 "nbformat_minor": 4
}
